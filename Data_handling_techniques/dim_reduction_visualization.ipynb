{
 "cells": [
  {
   "cell_type": "markdown",
   "metadata": {},
   "source": [
    "# Dimensionality Reduction & Visualization\n"
   ]
  },
  {
   "cell_type": "code",
   "execution_count": 1,
   "metadata": {},
   "outputs": [],
   "source": [
    "import numpy as np\n",
    "\n",
    "# import sklearn stuff\n",
    "from sklearn import datasets\n",
    "from sklearn.decomposition import PCA\n",
    "from sklearn.cluster import KMeans\n",
    "from sklearn.mixture import GaussianMixture\n",
    "\n",
    "# set up for plotting figures in the notebook\n",
    "%matplotlib inline\n",
    "# NOTE: you can also try 'notebook' or 'widget' in place of 'inline' (may require installing extra packages, but more functionality)\n",
    "import matplotlib as mpl\n",
    "import matplotlib.pyplot as plt\n",
    "import matplotlib.patches as mpatches"
   ]
  },
  {
   "cell_type": "markdown",
   "metadata": {},
   "source": [
    "  "
   ]
  },
  {
   "cell_type": "code",
   "execution_count": 2,
   "metadata": {},
   "outputs": [
    {
     "name": "stdout",
     "output_type": "stream",
     "text": [
      ".. _iris_dataset:\n",
      "\n",
      "Iris plants dataset\n",
      "--------------------\n",
      "\n",
      "**Data Set Characteristics:**\n",
      "\n",
      "    :Number of Instances: 150 (50 in each of three classes)\n",
      "    :Number of Attributes: 4 numeric, predictive attributes and the class\n",
      "    :Attribute Information:\n",
      "        - sepal length in cm\n",
      "        - sepal width in cm\n",
      "        - petal length in cm\n",
      "        - petal width in cm\n",
      "        - class:\n",
      "                - Iris-Setosa\n",
      "                - Iris-Versicolour\n",
      "                - Iris-Virginica\n",
      "                \n",
      "    :Summary Statistics:\n",
      "\n",
      "    ============== ==== ==== ======= ===== ====================\n",
      "                    Min  Max   Mean    SD   Class Correlation\n",
      "    ============== ==== ==== ======= ===== ====================\n",
      "    sepal length:   4.3  7.9   5.84   0.83    0.7826\n",
      "    sepal width:    2.0  4.4   3.05   0.43   -0.4194\n",
      "    petal length:   1.0  6.9   3.76   1.76    0.9490  (high!)\n",
      "    petal width:    0.1  2.5   1.20   0.76    0.9565  (high!)\n",
      "    ============== ==== ==== ======= ===== ====================\n",
      "\n",
      "    :Missing Attribute Values: None\n",
      "    :Class Distribution: 33.3% for each of 3 classes.\n",
      "    :Creator: R.A. Fisher\n",
      "    :Donor: Michael Marshall (MARSHALL%PLU@io.arc.nasa.gov)\n",
      "    :Date: July, 1988\n",
      "\n",
      "The famous Iris database, first used by Sir R.A. Fisher. The dataset is taken\n",
      "from Fisher's paper. Note that it's the same as in R, but not as in the UCI\n",
      "Machine Learning Repository, which has two wrong data points.\n",
      "\n",
      "This is perhaps the best known database to be found in the\n",
      "pattern recognition literature.  Fisher's paper is a classic in the field and\n",
      "is referenced frequently to this day.  (See Duda & Hart, for example.)  The\n",
      "data set contains 3 classes of 50 instances each, where each class refers to a\n",
      "type of iris plant.  One class is linearly separable from the other 2; the\n",
      "latter are NOT linearly separable from each other.\n",
      "\n",
      ".. topic:: References\n",
      "\n",
      "   - Fisher, R.A. \"The use of multiple measurements in taxonomic problems\"\n",
      "     Annual Eugenics, 7, Part II, 179-188 (1936); also in \"Contributions to\n",
      "     Mathematical Statistics\" (John Wiley, NY, 1950).\n",
      "   - Duda, R.O., & Hart, P.E. (1973) Pattern Classification and Scene Analysis.\n",
      "     (Q327.D83) John Wiley & Sons.  ISBN 0-471-22361-1.  See page 218.\n",
      "   - Dasarathy, B.V. (1980) \"Nosing Around the Neighborhood: A New System\n",
      "     Structure and Classification Rule for Recognition in Partially Exposed\n",
      "     Environments\".  IEEE Transactions on Pattern Analysis and Machine\n",
      "     Intelligence, Vol. PAMI-2, No. 1, 67-71.\n",
      "   - Gates, G.W. (1972) \"The Reduced Nearest Neighbor Rule\".  IEEE Transactions\n",
      "     on Information Theory, May 1972, 431-433.\n",
      "   - See also: 1988 MLC Proceedings, 54-64.  Cheeseman et al\"s AUTOCLASS II\n",
      "     conceptual clustering system finds 3 classes in the data.\n",
      "   - Many, many more ...\n"
     ]
    }
   ],
   "source": [
    "# load the iris dataset\n",
    "iris = datasets.load_iris()\n",
    "print(iris.DESCR)"
   ]
  },
  {
   "cell_type": "code",
   "execution_count": 3,
   "metadata": {},
   "outputs": [
    {
     "data": {
      "text/plain": [
       "(150, 4)"
      ]
     },
     "execution_count": 3,
     "metadata": {},
     "output_type": "execute_result"
    }
   ],
   "source": [
    "# note that the iris data is 4-dimensional\n",
    "iris.data.shape"
   ]
  },
  {
   "cell_type": "code",
   "execution_count": 4,
   "metadata": {},
   "outputs": [
    {
     "data": {
      "text/plain": [
       "{'data': array([[5.1, 3.5, 1.4, 0.2],\n",
       "        [4.9, 3. , 1.4, 0.2],\n",
       "        [4.7, 3.2, 1.3, 0.2],\n",
       "        [4.6, 3.1, 1.5, 0.2],\n",
       "        [5. , 3.6, 1.4, 0.2],\n",
       "        [5.4, 3.9, 1.7, 0.4],\n",
       "        [4.6, 3.4, 1.4, 0.3],\n",
       "        [5. , 3.4, 1.5, 0.2],\n",
       "        [4.4, 2.9, 1.4, 0.2],\n",
       "        [4.9, 3.1, 1.5, 0.1],\n",
       "        [5.4, 3.7, 1.5, 0.2],\n",
       "        [4.8, 3.4, 1.6, 0.2],\n",
       "        [4.8, 3. , 1.4, 0.1],\n",
       "        [4.3, 3. , 1.1, 0.1],\n",
       "        [5.8, 4. , 1.2, 0.2],\n",
       "        [5.7, 4.4, 1.5, 0.4],\n",
       "        [5.4, 3.9, 1.3, 0.4],\n",
       "        [5.1, 3.5, 1.4, 0.3],\n",
       "        [5.7, 3.8, 1.7, 0.3],\n",
       "        [5.1, 3.8, 1.5, 0.3],\n",
       "        [5.4, 3.4, 1.7, 0.2],\n",
       "        [5.1, 3.7, 1.5, 0.4],\n",
       "        [4.6, 3.6, 1. , 0.2],\n",
       "        [5.1, 3.3, 1.7, 0.5],\n",
       "        [4.8, 3.4, 1.9, 0.2],\n",
       "        [5. , 3. , 1.6, 0.2],\n",
       "        [5. , 3.4, 1.6, 0.4],\n",
       "        [5.2, 3.5, 1.5, 0.2],\n",
       "        [5.2, 3.4, 1.4, 0.2],\n",
       "        [4.7, 3.2, 1.6, 0.2],\n",
       "        [4.8, 3.1, 1.6, 0.2],\n",
       "        [5.4, 3.4, 1.5, 0.4],\n",
       "        [5.2, 4.1, 1.5, 0.1],\n",
       "        [5.5, 4.2, 1.4, 0.2],\n",
       "        [4.9, 3.1, 1.5, 0.2],\n",
       "        [5. , 3.2, 1.2, 0.2],\n",
       "        [5.5, 3.5, 1.3, 0.2],\n",
       "        [4.9, 3.6, 1.4, 0.1],\n",
       "        [4.4, 3. , 1.3, 0.2],\n",
       "        [5.1, 3.4, 1.5, 0.2],\n",
       "        [5. , 3.5, 1.3, 0.3],\n",
       "        [4.5, 2.3, 1.3, 0.3],\n",
       "        [4.4, 3.2, 1.3, 0.2],\n",
       "        [5. , 3.5, 1.6, 0.6],\n",
       "        [5.1, 3.8, 1.9, 0.4],\n",
       "        [4.8, 3. , 1.4, 0.3],\n",
       "        [5.1, 3.8, 1.6, 0.2],\n",
       "        [4.6, 3.2, 1.4, 0.2],\n",
       "        [5.3, 3.7, 1.5, 0.2],\n",
       "        [5. , 3.3, 1.4, 0.2],\n",
       "        [7. , 3.2, 4.7, 1.4],\n",
       "        [6.4, 3.2, 4.5, 1.5],\n",
       "        [6.9, 3.1, 4.9, 1.5],\n",
       "        [5.5, 2.3, 4. , 1.3],\n",
       "        [6.5, 2.8, 4.6, 1.5],\n",
       "        [5.7, 2.8, 4.5, 1.3],\n",
       "        [6.3, 3.3, 4.7, 1.6],\n",
       "        [4.9, 2.4, 3.3, 1. ],\n",
       "        [6.6, 2.9, 4.6, 1.3],\n",
       "        [5.2, 2.7, 3.9, 1.4],\n",
       "        [5. , 2. , 3.5, 1. ],\n",
       "        [5.9, 3. , 4.2, 1.5],\n",
       "        [6. , 2.2, 4. , 1. ],\n",
       "        [6.1, 2.9, 4.7, 1.4],\n",
       "        [5.6, 2.9, 3.6, 1.3],\n",
       "        [6.7, 3.1, 4.4, 1.4],\n",
       "        [5.6, 3. , 4.5, 1.5],\n",
       "        [5.8, 2.7, 4.1, 1. ],\n",
       "        [6.2, 2.2, 4.5, 1.5],\n",
       "        [5.6, 2.5, 3.9, 1.1],\n",
       "        [5.9, 3.2, 4.8, 1.8],\n",
       "        [6.1, 2.8, 4. , 1.3],\n",
       "        [6.3, 2.5, 4.9, 1.5],\n",
       "        [6.1, 2.8, 4.7, 1.2],\n",
       "        [6.4, 2.9, 4.3, 1.3],\n",
       "        [6.6, 3. , 4.4, 1.4],\n",
       "        [6.8, 2.8, 4.8, 1.4],\n",
       "        [6.7, 3. , 5. , 1.7],\n",
       "        [6. , 2.9, 4.5, 1.5],\n",
       "        [5.7, 2.6, 3.5, 1. ],\n",
       "        [5.5, 2.4, 3.8, 1.1],\n",
       "        [5.5, 2.4, 3.7, 1. ],\n",
       "        [5.8, 2.7, 3.9, 1.2],\n",
       "        [6. , 2.7, 5.1, 1.6],\n",
       "        [5.4, 3. , 4.5, 1.5],\n",
       "        [6. , 3.4, 4.5, 1.6],\n",
       "        [6.7, 3.1, 4.7, 1.5],\n",
       "        [6.3, 2.3, 4.4, 1.3],\n",
       "        [5.6, 3. , 4.1, 1.3],\n",
       "        [5.5, 2.5, 4. , 1.3],\n",
       "        [5.5, 2.6, 4.4, 1.2],\n",
       "        [6.1, 3. , 4.6, 1.4],\n",
       "        [5.8, 2.6, 4. , 1.2],\n",
       "        [5. , 2.3, 3.3, 1. ],\n",
       "        [5.6, 2.7, 4.2, 1.3],\n",
       "        [5.7, 3. , 4.2, 1.2],\n",
       "        [5.7, 2.9, 4.2, 1.3],\n",
       "        [6.2, 2.9, 4.3, 1.3],\n",
       "        [5.1, 2.5, 3. , 1.1],\n",
       "        [5.7, 2.8, 4.1, 1.3],\n",
       "        [6.3, 3.3, 6. , 2.5],\n",
       "        [5.8, 2.7, 5.1, 1.9],\n",
       "        [7.1, 3. , 5.9, 2.1],\n",
       "        [6.3, 2.9, 5.6, 1.8],\n",
       "        [6.5, 3. , 5.8, 2.2],\n",
       "        [7.6, 3. , 6.6, 2.1],\n",
       "        [4.9, 2.5, 4.5, 1.7],\n",
       "        [7.3, 2.9, 6.3, 1.8],\n",
       "        [6.7, 2.5, 5.8, 1.8],\n",
       "        [7.2, 3.6, 6.1, 2.5],\n",
       "        [6.5, 3.2, 5.1, 2. ],\n",
       "        [6.4, 2.7, 5.3, 1.9],\n",
       "        [6.8, 3. , 5.5, 2.1],\n",
       "        [5.7, 2.5, 5. , 2. ],\n",
       "        [5.8, 2.8, 5.1, 2.4],\n",
       "        [6.4, 3.2, 5.3, 2.3],\n",
       "        [6.5, 3. , 5.5, 1.8],\n",
       "        [7.7, 3.8, 6.7, 2.2],\n",
       "        [7.7, 2.6, 6.9, 2.3],\n",
       "        [6. , 2.2, 5. , 1.5],\n",
       "        [6.9, 3.2, 5.7, 2.3],\n",
       "        [5.6, 2.8, 4.9, 2. ],\n",
       "        [7.7, 2.8, 6.7, 2. ],\n",
       "        [6.3, 2.7, 4.9, 1.8],\n",
       "        [6.7, 3.3, 5.7, 2.1],\n",
       "        [7.2, 3.2, 6. , 1.8],\n",
       "        [6.2, 2.8, 4.8, 1.8],\n",
       "        [6.1, 3. , 4.9, 1.8],\n",
       "        [6.4, 2.8, 5.6, 2.1],\n",
       "        [7.2, 3. , 5.8, 1.6],\n",
       "        [7.4, 2.8, 6.1, 1.9],\n",
       "        [7.9, 3.8, 6.4, 2. ],\n",
       "        [6.4, 2.8, 5.6, 2.2],\n",
       "        [6.3, 2.8, 5.1, 1.5],\n",
       "        [6.1, 2.6, 5.6, 1.4],\n",
       "        [7.7, 3. , 6.1, 2.3],\n",
       "        [6.3, 3.4, 5.6, 2.4],\n",
       "        [6.4, 3.1, 5.5, 1.8],\n",
       "        [6. , 3. , 4.8, 1.8],\n",
       "        [6.9, 3.1, 5.4, 2.1],\n",
       "        [6.7, 3.1, 5.6, 2.4],\n",
       "        [6.9, 3.1, 5.1, 2.3],\n",
       "        [5.8, 2.7, 5.1, 1.9],\n",
       "        [6.8, 3.2, 5.9, 2.3],\n",
       "        [6.7, 3.3, 5.7, 2.5],\n",
       "        [6.7, 3. , 5.2, 2.3],\n",
       "        [6.3, 2.5, 5. , 1.9],\n",
       "        [6.5, 3. , 5.2, 2. ],\n",
       "        [6.2, 3.4, 5.4, 2.3],\n",
       "        [5.9, 3. , 5.1, 1.8]]),\n",
       " 'target': array([0, 0, 0, 0, 0, 0, 0, 0, 0, 0, 0, 0, 0, 0, 0, 0, 0, 0, 0, 0, 0, 0,\n",
       "        0, 0, 0, 0, 0, 0, 0, 0, 0, 0, 0, 0, 0, 0, 0, 0, 0, 0, 0, 0, 0, 0,\n",
       "        0, 0, 0, 0, 0, 0, 1, 1, 1, 1, 1, 1, 1, 1, 1, 1, 1, 1, 1, 1, 1, 1,\n",
       "        1, 1, 1, 1, 1, 1, 1, 1, 1, 1, 1, 1, 1, 1, 1, 1, 1, 1, 1, 1, 1, 1,\n",
       "        1, 1, 1, 1, 1, 1, 1, 1, 1, 1, 1, 1, 2, 2, 2, 2, 2, 2, 2, 2, 2, 2,\n",
       "        2, 2, 2, 2, 2, 2, 2, 2, 2, 2, 2, 2, 2, 2, 2, 2, 2, 2, 2, 2, 2, 2,\n",
       "        2, 2, 2, 2, 2, 2, 2, 2, 2, 2, 2, 2, 2, 2, 2, 2, 2, 2]),\n",
       " 'target_names': array(['setosa', 'versicolor', 'virginica'], dtype='<U10'),\n",
       " 'DESCR': '.. _iris_dataset:\\n\\nIris plants dataset\\n--------------------\\n\\n**Data Set Characteristics:**\\n\\n    :Number of Instances: 150 (50 in each of three classes)\\n    :Number of Attributes: 4 numeric, predictive attributes and the class\\n    :Attribute Information:\\n        - sepal length in cm\\n        - sepal width in cm\\n        - petal length in cm\\n        - petal width in cm\\n        - class:\\n                - Iris-Setosa\\n                - Iris-Versicolour\\n                - Iris-Virginica\\n                \\n    :Summary Statistics:\\n\\n    ============== ==== ==== ======= ===== ====================\\n                    Min  Max   Mean    SD   Class Correlation\\n    ============== ==== ==== ======= ===== ====================\\n    sepal length:   4.3  7.9   5.84   0.83    0.7826\\n    sepal width:    2.0  4.4   3.05   0.43   -0.4194\\n    petal length:   1.0  6.9   3.76   1.76    0.9490  (high!)\\n    petal width:    0.1  2.5   1.20   0.76    0.9565  (high!)\\n    ============== ==== ==== ======= ===== ====================\\n\\n    :Missing Attribute Values: None\\n    :Class Distribution: 33.3% for each of 3 classes.\\n    :Creator: R.A. Fisher\\n    :Donor: Michael Marshall (MARSHALL%PLU@io.arc.nasa.gov)\\n    :Date: July, 1988\\n\\nThe famous Iris database, first used by Sir R.A. Fisher. The dataset is taken\\nfrom Fisher\\'s paper. Note that it\\'s the same as in R, but not as in the UCI\\nMachine Learning Repository, which has two wrong data points.\\n\\nThis is perhaps the best known database to be found in the\\npattern recognition literature.  Fisher\\'s paper is a classic in the field and\\nis referenced frequently to this day.  (See Duda & Hart, for example.)  The\\ndata set contains 3 classes of 50 instances each, where each class refers to a\\ntype of iris plant.  One class is linearly separable from the other 2; the\\nlatter are NOT linearly separable from each other.\\n\\n.. topic:: References\\n\\n   - Fisher, R.A. \"The use of multiple measurements in taxonomic problems\"\\n     Annual Eugenics, 7, Part II, 179-188 (1936); also in \"Contributions to\\n     Mathematical Statistics\" (John Wiley, NY, 1950).\\n   - Duda, R.O., & Hart, P.E. (1973) Pattern Classification and Scene Analysis.\\n     (Q327.D83) John Wiley & Sons.  ISBN 0-471-22361-1.  See page 218.\\n   - Dasarathy, B.V. (1980) \"Nosing Around the Neighborhood: A New System\\n     Structure and Classification Rule for Recognition in Partially Exposed\\n     Environments\".  IEEE Transactions on Pattern Analysis and Machine\\n     Intelligence, Vol. PAMI-2, No. 1, 67-71.\\n   - Gates, G.W. (1972) \"The Reduced Nearest Neighbor Rule\".  IEEE Transactions\\n     on Information Theory, May 1972, 431-433.\\n   - See also: 1988 MLC Proceedings, 54-64.  Cheeseman et al\"s AUTOCLASS II\\n     conceptual clustering system finds 3 classes in the data.\\n   - Many, many more ...',\n",
       " 'feature_names': ['sepal length (cm)',\n",
       "  'sepal width (cm)',\n",
       "  'petal length (cm)',\n",
       "  'petal width (cm)'],\n",
       " 'filename': '/home/kratos/anaconda3/lib/python3.7/site-packages/sklearn/datasets/data/iris.csv'}"
      ]
     },
     "execution_count": 4,
     "metadata": {},
     "output_type": "execute_result"
    }
   ],
   "source": [
    "# let's look at the first 10 elements\n",
    "iris.data[:10]\n",
    "iris"
   ]
  },
  {
   "cell_type": "markdown",
   "metadata": {},
   "source": [
    "## Plot the data\n",
    "Since the iris dataset has 4 features, we'll need to plot them as pairs; we can use color to represent class label.  Here is an example of plotting the first two dimensions:"
   ]
  },
  {
   "cell_type": "code",
   "execution_count": 5,
   "metadata": {},
   "outputs": [
    {
     "data": {
      "text/plain": [
       "Text(0.5, 1.0, 'Iris dataset (first two dimensions)')"
      ]
     },
     "execution_count": 5,
     "metadata": {},
     "output_type": "execute_result"
    },
    {
     "data": {
      "image/png": "[encoded data removed]",
      "text/plain": [
       "<Figure size 432x288 with 1 Axes>"
      ]
     },
     "metadata": {
      "needs_background": "light"
     },
     "output_type": "display_data"
    }
   ],
   "source": [
    "plt.figure() # make a new figure to plot in\n",
    "# let's set up a list of colors for the different class labels:\n",
    "colors = ['darkred', 'blue', 'orange']\n",
    "# now we'll loop over the points in our data set, and plot them one at a time\n",
    "for i in range(len(iris.data)):\n",
    "    # use the first 2 dimensions as our x and y coordinates\n",
    "    x = iris.data[i][0]\n",
    "    y = iris.data[i][1]\n",
    "    # use the target (which we know is 0, 1, or 2) to select the color for this point\n",
    "    c = colors[iris.target[i]]\n",
    "    # plot the point as a single point in a scatter graph\n",
    "    plt.scatter(x, y, color=c)\n",
    "\n",
    "# now let's add some axis labels; we'll use the names from the data set\n",
    "plt.xlabel(iris.feature_names[0])\n",
    "plt.ylabel(iris.feature_names[1])\n",
    "# if we want a key, we'll need to make \"handles\" attaching colors to names\n",
    "red = mpatches.Patch(color='darkred', label='setosa')\n",
    "blue = mpatches.Patch(color='blue', label='versicolor')\n",
    "orange = mpatches.Patch(color='orange', label='virginica')\n",
    "# now actually show the legend\n",
    "plt.legend(handles=[red, blue, orange])\n",
    "\n",
    "# let's add a title\n",
    "plt.title('Iris dataset (first two dimensions)')"
   ]
  },
  {
   "cell_type": "markdown",
   "metadata": {},
   "source": [
    "# Plot the other combinations of axes\n",
    "You will need a total of 6 plots (including the one above) to plot all possible combinations of dimensions; the remaining 5 are left to you, but you should be able to copy the example above and make minor modifications to it."
   ]
  },
  {
   "cell_type": "code",
   "execution_count": 6,
   "metadata": {},
   "outputs": [
    {
     "data": {
      "text/plain": [
       "Text(0.5, 1.0, 'Iris dataset --first & third dimensions--')"
      ]
     },
     "execution_count": 6,
     "metadata": {},
     "output_type": "execute_result"
    },
    {
     "data": {
      "image/png": "[encoded data removed]",
      "text/plain": [
       "<Figure size 432x288 with 1 Axes>"
      ]
     },
     "metadata": {
      "needs_background": "light"
     },
     "output_type": "display_data"
    }
   ],
   "source": [
    "# todo: plot 2\n",
    "plt.figure()\n",
    "\n",
    "color = ['red', 'cyan', 'green']\n",
    "\n",
    "for i in range(len(iris.data)):\n",
    "    \n",
    "    x = iris.data[i][0]\n",
    "    y = iris.data[i][2]\n",
    "\n",
    "    label = color[iris.target[i]]\n",
    "\n",
    "    plt.scatter(x, y, color=label)\n",
    "    \n",
    "plt.xlabel(iris.feature_names[0])\n",
    "plt.ylabel(iris.feature_names[2])\n",
    "\n",
    "red = mpatches.Patch(color='red', label='setosa')\n",
    "cyan = mpatches.Patch(color='cyan', label='versicolor')\n",
    "green = mpatches.Patch(color='green', label='virginica')\n",
    "\n",
    "plt.legend(handles=[red, cyan, green])\n",
    "\n",
    "plt.title(\"Iris dataset --first & third dimensions--\")"
   ]
  },
  {
   "cell_type": "code",
   "execution_count": 7,
   "metadata": {},
   "outputs": [
    {
     "data": {
      "text/plain": [
       "<matplotlib.legend.Legend at 0x7f38b8f022b0>"
      ]
     },
     "execution_count": 7,
     "metadata": {},
     "output_type": "execute_result"
    },
    {
     "data": {
      "image/png": "[encoded data removed]",
      "text/plain": [
       "<Figure size 432x288 with 1 Axes>"
      ]
     },
     "metadata": {
      "needs_background": "light"
     },
     "output_type": "display_data"
    }
   ],
   "source": [
    "# todo: plot 3\n",
    "plt.figure()\n",
    "\n",
    "color = ['lightgreen', 'black', 'red']\n",
    "\n",
    "for i in range(len(iris.data)):\n",
    "    xlabel = iris.data[i][0]\n",
    "    ylabel = iris.data[i][3]\n",
    "\n",
    "    label = color[iris.target[i]]\n",
    "\n",
    "    plt.scatter(xlabel, ylabel, color=label)\n",
    "\n",
    "plt.xlabel(iris.feature_names[0])\n",
    "plt.ylabel(iris.feature_names[3])\n",
    "\n",
    "plt.title(\"Iris dataset -- 1st & 4th dimension --\")\n",
    "\n",
    "lightgreen = mpatches.Patch(color='lightgreen', label='setosa')\n",
    "black = mpatches.Patch(color='black', label='versicolor')\n",
    "red = mpatches.Patch(color='red', label='virginica')\n",
    "\n",
    "plt.legend(handles=[lightgreen, black, red])"
   ]
  },
  {
   "cell_type": "code",
   "execution_count": 8,
   "metadata": {},
   "outputs": [
    {
     "data": {
      "text/plain": [
       "Text(0.5, 1.0, 'Iris Dataset --2nd and 3rd dimensions --')"
      ]
     },
     "execution_count": 8,
     "metadata": {},
     "output_type": "execute_result"
    },
    {
     "data": {
      "image/png": "[encoded data removed]",
      "text/plain": [
       "<Figure size 432x288 with 1 Axes>"
      ]
     },
     "metadata": {
      "needs_background": "light"
     },
     "output_type": "display_data"
    }
   ],
   "source": [
    "# todo: plot 4\n",
    "colors = ['royalblue', 'limegreen', 'darkorange']\n",
    "\n",
    "for i in range(len(iris.data)):\n",
    "    \n",
    "    x = iris.data[i][1]\n",
    "    y = iris.data[i][2]\n",
    "    \n",
    "    c = colors[iris.target[i]]\n",
    "    \n",
    "    plt.scatter(x, y, color=c)\n",
    "    \n",
    "plt.xlabel(iris.feature_names[1])\n",
    "plt.ylabel(iris.feature_names[2])\n",
    "    \n",
    "royalblue = mpatches.Patch(color='royalblue', label='setosa')\n",
    "limegreen = mpatches.Patch(color='limegreen', label='versicolor')\n",
    "darkorange= mpatches.Patch(color='darkorange', label='virginica')\n",
    "\n",
    "plt.legend(handles=[royalblue, limegreen, darkorange])\n",
    "\n",
    "plt.title('Iris Dataset --2nd and 3rd dimensions --')\n"
   ]
  },
  {
   "cell_type": "code",
   "execution_count": 9,
   "metadata": {},
   "outputs": [
    {
     "data": {
      "text/plain": [
       "<matplotlib.legend.Legend at 0x7f38b89a2c18>"
      ]
     },
     "execution_count": 9,
     "metadata": {},
     "output_type": "execute_result"
    },
    {
     "data": {
      "image/png": "[encoded data removed]",
      "text/plain": [
       "<Figure size 432x288 with 1 Axes>"
      ]
     },
     "metadata": {
      "needs_background": "light"
     },
     "output_type": "display_data"
    }
   ],
   "source": [
    "# todo: plot 5\n",
    "plt.figure()\n",
    "colors = ['mediumorchid','teal','firebrick']\n",
    "\n",
    "for i in range(len(iris.data)):\n",
    "    \n",
    "    x = iris.data[i][1]\n",
    "    y = iris.data[i][3]\n",
    "    \n",
    "    c = colors[iris.target[i]]\n",
    "    \n",
    "    plt.scatter(x, y, color=c)\n",
    "    \n",
    "plt.xlabel(iris.feature_names[1])\n",
    "plt.ylabel(iris.feature_names[3])\n",
    "\n",
    "plt.title('Iris Dataset -- 2nd & 4th dimension --')\n",
    "\n",
    "mediumorchid = mpatches.Patch(color='mediumorchid', label='setosa')\n",
    "teal = mpatches.Patch(color='teal', label='versicolor')\n",
    "firebrick = mpatches.Patch(color='firebrick', label='virginica')\n",
    "\n",
    "plt.legend(handles=[mediumorchid, teal, firebrick])"
   ]
  },
  {
   "cell_type": "code",
   "execution_count": 10,
   "metadata": {},
   "outputs": [
    {
     "data": {
      "text/plain": [
       "Text(0.5, 1.0, 'Iris Dataset -- 3rd and 4th dimension --')"
      ]
     },
     "execution_count": 10,
     "metadata": {},
     "output_type": "execute_result"
    },
    {
     "data": {
      "image/png": "[encoded data removed]",
      "text/plain": [
       "<Figure size 432x288 with 1 Axes>"
      ]
     },
     "metadata": {
      "needs_background": "light"
     },
     "output_type": "display_data"
    }
   ],
   "source": [
    "# todo: plot 6\n",
    "plt.figure()\n",
    "colors = ['saddlebrown', 'deeppink', 'slategrey']\n",
    "\n",
    "for i in range(len(iris.data)):\n",
    "    \n",
    "    x = iris.data[i][2]\n",
    "    y = iris.data[i][3]\n",
    "    \n",
    "    c = colors[iris.target[i]]\n",
    "    \n",
    "    plt.scatter(x, y, color=c)\n",
    "\n",
    "plt.xlabel(iris.feature_names[2])\n",
    "plt.ylabel(iris.feature_names[3])\n",
    "\n",
    "saddlebrown = mpatches.Patch(color='saddlebrown', label='setosa')\n",
    "deeppink = mpatches.Patch(color='deeppink', label='versicolor')\n",
    "slategrey = mpatches.Patch(color='slategrey', label='virginica')\n",
    "\n",
    "plt.legend(handles=[saddlebrown, deeppink, slategrey])\n",
    "plt.title('Iris Dataset -- 3rd and 4th dimension --')"
   ]
  },
  {
   "cell_type": "markdown",
   "metadata": {},
   "source": [
    "## Run PCA\n",
    "Here, we'll apply principal component analysis (PCA) to the dataset.  We'll use `n_components=2` to indicate we want to reduce our dimensionality to 2"
   ]
  },
  {
   "cell_type": "code",
   "execution_count": 11,
   "metadata": {},
   "outputs": [],
   "source": [
    "# set up a PCA learner\n",
    "pca = PCA(n_components = 2)\n",
    "# actually run the fit algorithm\n",
    "eigenbasis = pca.fit(iris.data)\n",
    "# transform our data using the learned transform\n",
    "iris2d = eigenbasis.transform(iris.data)"
   ]
  },
  {
   "cell_type": "code",
   "execution_count": 12,
   "metadata": {},
   "outputs": [
    {
     "data": {
      "text/plain": [
       "(150, 2)"
      ]
     },
     "execution_count": 12,
     "metadata": {},
     "output_type": "execute_result"
    }
   ],
   "source": [
    "# note that our transformed dat is now 2-dimensional\n",
    "iris2d.shape"
   ]
  },
  {
   "cell_type": "code",
   "execution_count": 13,
   "metadata": {},
   "outputs": [
    {
     "data": {
      "text/plain": [
       "array([[-2.68412563,  0.31939725],\n",
       "       [-2.71414169, -0.17700123],\n",
       "       [-2.88899057, -0.14494943],\n",
       "       [-2.74534286, -0.31829898],\n",
       "       [-2.72871654,  0.32675451],\n",
       "       [-2.28085963,  0.74133045],\n",
       "       [-2.82053775, -0.08946138],\n",
       "       [-2.62614497,  0.16338496],\n",
       "       [-2.88638273, -0.57831175],\n",
       "       [-2.6727558 , -0.11377425]])"
      ]
     },
     "execution_count": 13,
     "metadata": {},
     "output_type": "execute_result"
    }
   ],
   "source": [
    "# again, let's look at the first 10 elements; note that they are 2 dimensional, rather than 4\n",
    "iris2d[:10]"
   ]
  },
  {
   "cell_type": "markdown",
   "metadata": {},
   "source": [
    "### Examining components\n",
    "We can look at the actual \"principal components,\" which we're using as the basis for our transformed data space.  Since each component is a vector in the original data space, we can see what \"axis\" in the original space is the one of primary variance.\n",
    "\n",
    "Since we said to use the top 2 components, we're going to have two vectors, each of length 4 (since our original data was 4 dimensional).\n",
    "\n",
    "We can also show the amount of the total variance explained by each component, which tells us how \"important\" they are."
   ]
  },
  {
   "cell_type": "code",
   "execution_count": 14,
   "metadata": {},
   "outputs": [
    {
     "name": "stdout",
     "output_type": "stream",
     "text": [
      "principal components:\n",
      " [[ 0.36138659 -0.08452251  0.85667061  0.3582892 ]\n",
      " [ 0.65658877  0.73016143 -0.17337266 -0.07548102]]\n",
      "percentage of variance explained by first 2 principal components: [0.92461872 0.05306648]\n"
     ]
    }
   ],
   "source": [
    "# the actual components\n",
    "print(\"principal components:\\n\", pca.components_)\n",
    "# let's also look at how much of the total variance we were able to cover with 2 dimensions\n",
    "print('percentage of variance explained by first 2 principal components:', pca.explained_variance_ratio_)"
   ]
  },
  {
   "cell_type": "markdown",
   "metadata": {},
   "source": [
    "## Make a plot of the 2D \"transformed\" data\n",
    " First, here's an example adapted from http://scikit-learn.org/stable/auto_examples/decomposition/plot_pca_vs_lda.html#sphx-glr-auto-examples-decomposition-plot-pca-vs-lda-py"
   ]
  },
  {
   "cell_type": "code",
   "execution_count": 15,
   "metadata": {},
   "outputs": [
    {
     "data": {
      "text/plain": [
       "Text(0.5, 1.0, 'PCA of IRIS dataset')"
      ]
     },
     "execution_count": 15,
     "metadata": {},
     "output_type": "execute_result"
    },
    {
     "data": {
      "image/png": "[encoded data removed]",
      "text/plain": [
       "<Figure size 432x288 with 1 Axes>"
      ]
     },
     "metadata": {
      "needs_background": "light"
     },
     "output_type": "display_data"
    }
   ],
   "source": [
    "# make a new figure\n",
    "plt.figure()\n",
    "# pick some colors to use\n",
    "colors = ['navy', 'turquoise', 'darkorange']\n",
    "\n",
    "# plot our points with colors and labels\n",
    "for color, i, iris.target_name in zip(colors, [0, 1, 2], iris.target_names):\n",
    "    plt.scatter(iris2d[iris.target == i, 0], iris2d[iris.target == i, 1], color=color, label=iris.target_name)\n",
    "plt.legend(loc='best')\n",
    "plt.title('PCA of IRIS dataset')"
   ]
  },
  {
   "cell_type": "code",
   "execution_count": 16,
   "metadata": {},
   "outputs": [
    {
     "data": {
      "image/png": "[encoded data removed]",
      "text/plain": [
       "<Figure size 432x288 with 1 Axes>"
      ]
     },
     "metadata": {
      "needs_background": "light"
     },
     "output_type": "display_data"
    }
   ],
   "source": [
    "# here's an alternative version of plotting this data that may be easier to understand:\n",
    "colors = ['red', 'blue', 'green']\n",
    "plt.figure()\n",
    "# loop over examples, and plot each one\n",
    "for i in range(len(iris2d)):\n",
    "    point = iris2d[i]\n",
    "    classLabel = iris.target[i]\n",
    "    # plot a dot at an (x, y) coordinate, using the specified color.\n",
    "    plt.scatter(point[0], point[1], color=colors[classLabel])"
   ]
  },
  {
   "cell_type": "markdown",
   "metadata": {},
   "source": [
    "\n",
    "These plots are better than before ones because we are able to separate the data points and form a clear visualization while also capturing most of the variance in the dataset. The pros of this method is that we don't need to create different number of plots by feature pairs in order to find out the best pair which helps us to label our data more accurately. PCA also captures most of the variance in our dataset which was not possible using only a pair of features of our dataset. \n",
    "\n",
    "The interpretability of our graph is reduced since we are using principal components instead of features on our x and y-axis which is one of the cons of using PCA. Also, even though PCA is able to capture most of the variance (>0.90), some amount of variance in the dataset is still left out."
   ]
  },
  {
   "cell_type": "markdown",
   "metadata": {},
   "source": [
    "## SciKit Learn has several other methods of generating embeddings\n",
    " Here, we're going to use t-SNE and see how it compares to PCA.\n",
    "\n",
    "Note that t-SNE is stochastic, so re-running this cell will result in a different plot each time."
   ]
  },
  {
   "cell_type": "code",
   "execution_count": 17,
   "metadata": {},
   "outputs": [
    {
     "data": {
      "image/png": "[encoded data removed]",
      "text/plain": [
       "<Figure size 432x288 with 1 Axes>"
      ]
     },
     "metadata": {
      "needs_background": "light"
     },
     "output_type": "display_data"
    }
   ],
   "source": [
    "from sklearn import manifold\n",
    "\n",
    "irisTSNE = manifold.TSNE(n_components = 2, perplexity = 15).fit_transform(iris.data)\n",
    "\n",
    "colors = ['red', 'blue', 'green']\n",
    "plt.figure()\n",
    "# loop over examples, and plot each one\n",
    "for i in range(len(iris2d)):\n",
    "    point = irisTSNE[i]\n",
    "    classLabel = iris.target[i]\n",
    "    # plot a dot at an (x, y) coordinate, using the specified color.\n",
    "    plt.scatter(point[0], point[1], color=colors[classLabel])"
   ]
  },
  {
   "cell_type": "markdown",
   "metadata": {},
   "source": [
    "# Now let's try a different dataset\n",
    "Here, we'll work with a set of small \"pictures\" of handwritten numeric digits.  Note that this is a miniature version; most real-world image datasets are much bigger (both in dimensionality and number of examples), but the same principles will apply."
   ]
  },
  {
   "cell_type": "code",
   "execution_count": 18,
   "metadata": {},
   "outputs": [],
   "source": [
    "# load a dataset composed of small images of written numbers\n",
    "digits = datasets.load_digits()"
   ]
  },
  {
   "cell_type": "code",
   "execution_count": 19,
   "metadata": {},
   "outputs": [
    {
     "data": {
      "text/plain": [
       "(1797, 64)"
      ]
     },
     "execution_count": 19,
     "metadata": {},
     "output_type": "execute_result"
    }
   ],
   "source": [
    "# let's take a look at the shape of the dataset\n",
    "digits.data.shape"
   ]
  },
  {
   "cell_type": "markdown",
   "metadata": {},
   "source": [
    "Note that each example has 64 features, which in this case represent values from a 8x8 pixel grayscale image"
   ]
  },
  {
   "cell_type": "code",
   "execution_count": 20,
   "metadata": {},
   "outputs": [
    {
     "name": "stdout",
     "output_type": "stream",
     "text": [
      "label is : 0\n"
     ]
    },
    {
     "data": {
      "text/plain": [
       "array([ 0.,  0.,  3., 13., 11.,  7.,  0.,  0.,  0.,  0., 11., 16., 16.,\n",
       "       16.,  2.,  0.,  0.,  4., 16.,  9.,  1., 14.,  2.,  0.,  0.,  4.,\n",
       "       16.,  0.,  0., 16.,  2.,  0.,  0.,  0., 16.,  1.,  0., 12.,  8.,\n",
       "        0.,  0.,  0., 15.,  9.,  0., 13.,  6.,  0.,  0.,  0.,  9., 14.,\n",
       "        9., 14.,  1.,  0.,  0.,  0.,  2., 12., 13.,  4.,  0.,  0.])"
      ]
     },
     "execution_count": 20,
     "metadata": {},
     "output_type": "execute_result"
    }
   ],
   "source": [
    "# let's look at a random example; note that it's just a single vector with 64 elements\n",
    "print('label is :', digits.target[20])\n",
    "digits.data[20]"
   ]
  },
  {
   "cell_type": "code",
   "execution_count": 21,
   "metadata": {},
   "outputs": [
    {
     "data": {
      "text/plain": [
       "array([[ 0.,  0.,  3., 13., 11.,  7.,  0.,  0.],\n",
       "       [ 0.,  0., 11., 16., 16., 16.,  2.,  0.],\n",
       "       [ 0.,  4., 16.,  9.,  1., 14.,  2.,  0.],\n",
       "       [ 0.,  4., 16.,  0.,  0., 16.,  2.,  0.],\n",
       "       [ 0.,  0., 16.,  1.,  0., 12.,  8.,  0.],\n",
       "       [ 0.,  0., 15.,  9.,  0., 13.,  6.,  0.],\n",
       "       [ 0.,  0.,  9., 14.,  9., 14.,  1.,  0.],\n",
       "       [ 0.,  0.,  2., 12., 13.,  4.,  0.,  0.]])"
      ]
     },
     "execution_count": 21,
     "metadata": {},
     "output_type": "execute_result"
    }
   ],
   "source": [
    "# note that we can 'reshape' this data to get an 8x8 2D array (i.e. matrix) with those values\n",
    "mat = np.reshape(digits.data[20], [8,8])\n",
    "mat"
   ]
  },
  {
   "cell_type": "code",
   "execution_count": 22,
   "metadata": {},
   "outputs": [
    {
     "data": {
      "text/plain": [
       "<matplotlib.image.AxesImage at 0x7f38b6fe17b8>"
      ]
     },
     "execution_count": 22,
     "metadata": {},
     "output_type": "execute_result"
    },
    {
     "data": {
      "text/plain": [
       "<Figure size 432x288 with 0 Axes>"
      ]
     },
     "metadata": {},
     "output_type": "display_data"
    },
    {
     "data": {
      "image/png": "[encoded data removed]",
      "text/plain": [
       "<Figure size 288x288 with 1 Axes>"
      ]
     },
     "metadata": {
      "needs_background": "light"
     },
     "output_type": "display_data"
    }
   ],
   "source": [
    "# we can also ask matplotlib to treat these examples as images (which they are), and plot one:\n",
    "plt.gray() # use gray levels rather than colors\n",
    "plt.matshow(mat) # show a matrix (i.e. 2D array) as visual values"
   ]
  },
  {
   "cell_type": "markdown",
   "metadata": {},
   "source": [
    "# Visualize this data\n",
    "Note that we can't realistically visualize all pairs of axes, there's way too many (though we can look at example images as shown above).  However, we can still do PCA and do a scatterplot of the first two dimensions, which is what you should do next.  Note that there are now going to be 10 different classes (the digits 0 through 9), so you'll need to pick some more colors to give each class its own color.  Try to ensure that the colors are visually distinct; here's a link to some colored patches along with their CSS names (which pyplot will recognise) http://www.crockford.com/wrrrld/color.html"
   ]
  },
  {
   "cell_type": "code",
   "execution_count": 23,
   "metadata": {},
   "outputs": [
    {
     "name": "stdout",
     "output_type": "stream",
     "text": [
      "principal components of digits data:\n",
      " [[-2.35815584e-17 -1.73094674e-02 -2.23428844e-01 -1.35913297e-01\n",
      "  -3.30323095e-02 -9.66340874e-02 -8.32943683e-03  2.26900155e-03\n",
      "  -3.20516553e-04 -1.19308915e-01 -2.44451676e-01  1.48512757e-01\n",
      "  -4.67319439e-02 -2.17740741e-01 -1.48136758e-02  4.47779563e-03\n",
      "  -4.94136466e-05 -7.95419475e-02  8.33951475e-02  2.15915350e-01\n",
      "  -1.72126801e-01 -1.63712099e-01  2.86444428e-02  4.23251799e-03\n",
      "   9.85488610e-05  6.42319109e-02  2.54093307e-01 -3.56771017e-02\n",
      "  -2.09462565e-01 -4.31311545e-02  5.13118634e-02  2.13422726e-04\n",
      "  -0.00000000e+00  1.59950882e-01  3.68690770e-01  1.64406821e-01\n",
      "   8.52007928e-02  3.72982858e-02  2.15866998e-02 -0.00000000e+00\n",
      "   1.28865576e-03  1.06945286e-01  3.03067459e-01  2.47813026e-01\n",
      "   2.09637291e-01  1.22325194e-02 -3.69458439e-02  1.61485047e-03\n",
      "   6.93023498e-04 -8.35144372e-03 -5.58599003e-02  9.30534176e-02\n",
      "   1.07387717e-01 -1.37734575e-01 -6.32879479e-02  9.61671448e-04\n",
      "   9.55078908e-06 -1.40786861e-02 -2.35675498e-01 -1.41225574e-01\n",
      "  -9.15964386e-03 -8.94184777e-02 -3.65977166e-02 -1.14684954e-02]\n",
      " [-3.58595088e-17 -1.01064379e-02 -4.90848365e-02 -9.43343699e-03\n",
      "  -5.36015698e-02 -1.17755296e-01 -6.21281861e-02 -7.93575087e-03\n",
      "  -1.63215795e-04 -2.10166248e-02  6.03485789e-02 -5.33778179e-03\n",
      "  -9.19768812e-02 -5.19210694e-02 -5.89354800e-02 -3.33283690e-03\n",
      "  -4.22871546e-05  3.62459314e-02  1.98257321e-01 -4.86387120e-02\n",
      "  -2.25574884e-01 -4.50540359e-03  2.67696944e-02 -2.08734942e-04\n",
      "  -5.66234216e-05  7.71235419e-02  1.88447174e-01 -1.37952534e-01\n",
      "  -2.61042821e-01  4.98351576e-02  6.51114252e-02  4.03200847e-05\n",
      "  -0.00000000e+00  8.81560058e-02  8.71738085e-02 -2.70860122e-01\n",
      "  -2.85291812e-01  1.66461577e-01  1.27860530e-01 -0.00000000e+00\n",
      "   2.89440755e-04  5.08304894e-02  1.30274442e-01 -2.68906366e-01\n",
      "  -3.01575498e-01  2.40259077e-01  2.17555506e-01  1.32725922e-03\n",
      "   2.86743179e-04  1.05548360e-02  1.53370700e-01 -1.19535190e-01\n",
      "  -9.72507784e-02  2.85869615e-01  1.48776461e-01  5.42289241e-04\n",
      "  -3.34028002e-05 -1.00790994e-02 -7.02723178e-02  1.71107021e-02\n",
      "   1.94296383e-01  1.76697202e-01  1.94547558e-02 -6.69693634e-03]]\n",
      "percentage of variance explained by first 2 principal components for digits data: [0.14890594 0.13618771]\n"
     ]
    },
    {
     "data": {
      "text/plain": [
       "(1797, 2)"
      ]
     },
     "execution_count": 23,
     "metadata": {},
     "output_type": "execute_result"
    }
   ],
   "source": [
    "# TODO: run PCA on the digit data and project the dataset down to 2 dimensions\n",
    "pca = PCA(n_components = 2)\n",
    "# actually run the fit algorithm\n",
    "eigenbasis = pca.fit(digits.data)\n",
    "# transform our data using the learned transform\n",
    "digits2d = eigenbasis.transform(digits.data)\n",
    "digits2d.shape\n",
    "\n",
    "digits2d[:10]\n",
    "\n",
    "print(\"principal components of digits data:\\n\", pca.components_)\n",
    "\n",
    "print('percentage of variance explained by first 2 principal components for digits data:', pca.explained_variance_ratio_)\n",
    "\n",
    "pca.components_[0]\n",
    "digits2d.shape"
   ]
  },
  {
   "cell_type": "code",
   "execution_count": 24,
   "metadata": {},
   "outputs": [
    {
     "data": {
      "image/png": "[encoded data removed]",
      "text/plain": [
       "<Figure size 432x288 with 1 Axes>"
      ]
     },
     "metadata": {
      "needs_background": "light"
     },
     "output_type": "display_data"
    }
   ],
   "source": [
    "point = digits2d[0]\n",
    "point\n",
    "\n",
    "colors = ['red', 'blue', 'green']\n",
    "plt.figure()\n",
    "# loop over examples, and plot each one\n",
    "for i in range(len(iris2d)):\n",
    "    point = iris2d[i]\n",
    "    classLabel = iris.target[i]\n",
    "    # plot a dot at an (x, y) coordinate, using the specified color.\n",
    "    plt.scatter(point[0], point[1], color=colors[classLabel])"
   ]
  },
  {
   "cell_type": "code",
   "execution_count": 25,
   "metadata": {},
   "outputs": [
    {
     "data": {
      "image/png": "[encoded data removed]",
      "text/plain": [
       "<Figure size 432x288 with 1 Axes>"
      ]
     },
     "metadata": {
      "needs_background": "light"
     },
     "output_type": "display_data"
    }
   ],
   "source": [
    "# TODO: make a scatterplot of the 2D version, using different colors for each class\n",
    "\n",
    "colors = ['blue', 'orange', 'green', 'red', 'pink', 'gray', 'olive', 'cyan', 'brown', 'purple']\n",
    "\n",
    "for i in range(len(digits2d)):\n",
    "    \n",
    "    point = digits2d[i]\n",
    "    classLabel = digits.target[i]\n",
    "    # plot a dot at an (x, y) coordinate, using the specified color.\n",
    "    plt.scatter(point[0], point[1], color=colors[classLabel]) "
   ]
  },
  {
   "cell_type": "code",
   "execution_count": 26,
   "metadata": {},
   "outputs": [
    {
     "data": {
      "text/plain": [
       "array([0, 1, 2, ..., 8, 9, 8])"
      ]
     },
     "execution_count": 26,
     "metadata": {},
     "output_type": "execute_result"
    }
   ],
   "source": [
    "digits.target"
   ]
  },
  {
   "cell_type": "code",
   "execution_count": 27,
   "metadata": {},
   "outputs": [
    {
     "data": {
      "image/png": "[encoded data removed]",
      "text/plain": [
       "<Figure size 432x288 with 1 Axes>"
      ]
     },
     "metadata": {
      "needs_background": "light"
     },
     "output_type": "display_data"
    }
   ],
   "source": [
    "# TODO: run TSNE on the data to get a (different) 2-dimensional version, and make a plot for this version\n",
    "\n",
    "\n",
    "digitsTSNE = manifold.TSNE(n_components = 2, perplexity = 50).fit_transform(digits.data)\n",
    "\n",
    "colors = ['blue', 'orange', 'green', 'red', 'pink', 'gray', 'olive', 'cyan', 'brown', 'purple']\n",
    "#           0        1         2       3       4       5       6       7        8         9\n",
    "for i in range(len(digits.data)):\n",
    "    \n",
    "    point = digitsTSNE[i]\n",
    "    classLabel = digits.target[i]\n",
    "\n",
    "    plt.scatter(point[0], point[1], color=colors[classLabel])"
   ]
  },
  {
   "cell_type": "markdown",
   "metadata": {},
   "source": [
    "\n",
    "Even though our dataset is reduced to a lower dimension using PCA, the visualization of PCA is very confusing since there is a lot of overlapping between the labels. PCA tries to capture most of the variance in data, so visualization seems  confusing on this kind of dataset which has multiple labels. Since, many digits look similar to each other (like  5 and 9, 7 and 1) in their vector representation, it might be one of the reasons why so many labels are overlapping with each other.\n",
    "\n",
    "While using tSNE, digits are very clearly clustered in their own sub groups, and it makes it easier to distinguish the labels from each other. \n",
    "As we increase the perplexity parameter, visualization of tSNE more closely resembles to that of PCA and we can find many overlapping points between the labels."
   ]
  },
  {
   "cell_type": "code",
   "execution_count": 28,
   "metadata": {},
   "outputs": [
    {
     "data": {
      "text/plain": [
       "<matplotlib.image.AxesImage at 0x7f38b6f78198>"
      ]
     },
     "execution_count": 28,
     "metadata": {},
     "output_type": "execute_result"
    },
    {
     "data": {
      "text/plain": [
       "<Figure size 432x288 with 0 Axes>"
      ]
     },
     "metadata": {},
     "output_type": "display_data"
    },
    {
     "data": {
      "image/png": "[encoded data removed]",
      "text/plain": [
       "<Figure size 288x288 with 1 Axes>"
      ]
     },
     "metadata": {
      "needs_background": "light"
     },
     "output_type": "display_data"
    }
   ],
   "source": [
    "# TODO: reshape the first component and plot it as an image\n",
    "pca = PCA(n_components = 2)\n",
    "# actually run the fit algorithm\n",
    "eigenbasis = pca.fit(digits.data)\n",
    "# transform our data using the learned transform\n",
    "digits2d = eigenbasis.transform(digits.data)\n",
    "digits2d.shape\n",
    "\n",
    "#print(\"principal components of digits data:\\n\", pca.components_)\n",
    "\n",
    "mat = np.reshape(pca.components_[0], [8,8])\n",
    "mat\n",
    "\n",
    "plt.gray() # use gray levels rather than colors\n",
    "plt.matshow(mat) "
   ]
  },
  {
   "cell_type": "code",
   "execution_count": 29,
   "metadata": {},
   "outputs": [
    {
     "data": {
      "text/plain": [
       "<matplotlib.image.AxesImage at 0x7f38b6d412e8>"
      ]
     },
     "execution_count": 29,
     "metadata": {},
     "output_type": "execute_result"
    },
    {
     "data": {
      "text/plain": [
       "<Figure size 432x288 with 0 Axes>"
      ]
     },
     "metadata": {},
     "output_type": "display_data"
    },
    {
     "data": {
      "image/png": "[encoded data removed]",
      "text/plain": [
       "<Figure size 288x288 with 1 Axes>"
      ]
     },
     "metadata": {
      "needs_background": "light"
     },
     "output_type": "display_data"
    }
   ],
   "source": [
    "# TODO: reshape the second component and plot it as an image\n",
    "mat2 = np.reshape(pca.components_[1], [8,8])\n",
    "mat2\n",
    "\n",
    "plt.gray() # use gray levels rather than colors\n",
    "plt.matshow(mat2) "
   ]
  },
  {
   "cell_type": "markdown",
   "metadata": {},
   "source": [
    "# Applying ML techniques\n",
    "\n",
    "\n"
   ]
  },
  {
   "cell_type": "code",
   "execution_count": 30,
   "metadata": {},
   "outputs": [
    {
     "name": "stderr",
     "output_type": "stream",
     "text": [
      "/home/kratos/anaconda3/lib/python3.7/site-packages/sklearn/svm/base.py:196: FutureWarning: The default value of gamma will change from 'auto' to 'scale' in version 0.22 to account better for unscaled features. Set gamma explicitly to 'auto' or 'scale' to avoid this warning.\n",
      "  \"avoid this warning.\", FutureWarning)\n"
     ]
    },
    {
     "name": "stdout",
     "output_type": "stream",
     "text": [
      "accuracy for linearSVM with rbf kernel:  0.2948539638386648\n",
      "accuracy for decision trees:  0.8386648122392212\n",
      "accuracy using randomforest: 0.9707927677329624\n",
      "accuracy using kNN: 0.9874826147426982\n",
      "accuracy for linearSVM with linear kernel:  0.9694019471488178\n"
     ]
    }
   ],
   "source": [
    "# TODO: try applying several different classifiers to the digit classification problem,\n",
    "#       then try again using PCA and keeping different numbers of components\n",
    "\n",
    "from sklearn import datasets\n",
    "from sklearn import neighbors\n",
    "from sklearn import svm\n",
    "from sklearn import tree\n",
    "from sklearn import ensemble\n",
    "# import some validation tools\n",
    "from sklearn.model_selection import train_test_split\n",
    "from sklearn.model_selection import cross_val_score\n",
    "from sklearn.model_selection import RepeatedKFold\n",
    "from sklearn.metrics import confusion_matrix\n",
    "from sklearn.ensemble import RandomForestClassifier\n",
    "\n",
    "\n",
    "X_train, X_test, y_train, y_test = train_test_split(digits.data, digits.target, test_size=0.4, random_state=3)\n",
    "\n",
    "linearSvm = svm.SVC(kernel='rbf')\n",
    "    # train and test\n",
    "linearSvm.fit(X_train, y_train)\n",
    "accuracy1 = linearSvm.score(X_test, y_test)\n",
    "print('accuracy for linearSVM with rbf kernel: ', accuracy1)\n",
    "\n",
    "treeclf = tree.DecisionTreeClassifier()\n",
    "treeclf.fit(X_train, y_train)\n",
    "accuracy2 = treeclf.score(X_test, y_test)\n",
    "print('accuracy for decision trees: ', accuracy2)\n",
    "\n",
    "rf = RandomForestClassifier(n_estimators=50, oob_score=True, n_jobs=-1)\n",
    "rf.fit(X_train, y_train)\n",
    "rf.predict(X_test)\n",
    "accuracy3 = rf.score(X_test, y_test)\n",
    "print('accuracy using randomforest:', accuracy3)\n",
    "\n",
    "nn = neighbors.KNeighborsClassifier(n_neighbors=1, metric='euclidean')\n",
    "nn.fit(X_train, y_train)\n",
    "accuracy4 = nn.score(X_test, y_test)\n",
    "print('accuracy using kNN:', accuracy4)\n",
    "\n",
    "svmLinear = svm.SVC(kernel='linear')\n",
    "svmLinear.fit(X_train, y_train)\n",
    "accuracy5 = svmLinear.score(X_test, y_test)\n",
    "print('accuracy for linearSVM with linear kernel: ', accuracy5)\n",
    "\n"
   ]
  },
  {
   "cell_type": "markdown",
   "metadata": {},
   "source": [
    "Using PCA varying the number of features"
   ]
  },
  {
   "cell_type": "code",
   "execution_count": 31,
   "metadata": {},
   "outputs": [
    {
     "name": "stdout",
     "output_type": "stream",
     "text": [
      "For n= 2  principal components, results : \n",
      "\n",
      "accuracy using randomforest: 0.6397774687065368\n",
      "accuracy using kNN: 0.5897079276773296\n",
      "accuracy for decision trees:  0.5744089012517385\n",
      "accuracy for linearSVM with linear kernel:  0.627260083449235\n"
     ]
    },
    {
     "name": "stderr",
     "output_type": "stream",
     "text": [
      "/home/kratos/anaconda3/lib/python3.7/site-packages/sklearn/svm/base.py:196: FutureWarning: The default value of gamma will change from 'auto' to 'scale' in version 0.22 to account better for unscaled features. Set gamma explicitly to 'auto' or 'scale' to avoid this warning.\n",
      "  \"avoid this warning.\", FutureWarning)\n"
     ]
    },
    {
     "name": "stdout",
     "output_type": "stream",
     "text": [
      "accuracy for linearSVM with rbf kernel:  0.6119610570236439\n",
      " \n",
      " ----------------- -------------------- ------------------ \n",
      "\n",
      "For n= 4  principal components, results : \n",
      "\n",
      "accuracy using randomforest: 0.8650904033379694\n",
      "accuracy using kNN: 0.8525730180806675\n",
      "accuracy for decision trees:  0.803894297635605\n",
      "accuracy for linearSVM with linear kernel:  0.8317107093184979\n"
     ]
    },
    {
     "name": "stderr",
     "output_type": "stream",
     "text": [
      "/home/kratos/anaconda3/lib/python3.7/site-packages/sklearn/svm/base.py:196: FutureWarning: The default value of gamma will change from 'auto' to 'scale' in version 0.22 to account better for unscaled features. Set gamma explicitly to 'auto' or 'scale' to avoid this warning.\n",
      "  \"avoid this warning.\", FutureWarning)\n"
     ]
    },
    {
     "name": "stdout",
     "output_type": "stream",
     "text": [
      "accuracy for linearSVM with rbf kernel:  0.45897079276773295\n",
      " \n",
      " ----------------- -------------------- ------------------ \n",
      "\n",
      "For n= 8  principal components, results : \n",
      "\n",
      "accuracy using randomforest: 0.9457579972183588\n",
      "accuracy using kNN: 0.9652294853963839\n",
      "accuracy for decision trees:  0.8553546592489569\n",
      "accuracy for linearSVM with linear kernel:  0.9040333796940194\n"
     ]
    },
    {
     "name": "stderr",
     "output_type": "stream",
     "text": [
      "/home/kratos/anaconda3/lib/python3.7/site-packages/sklearn/svm/base.py:196: FutureWarning: The default value of gamma will change from 'auto' to 'scale' in version 0.22 to account better for unscaled features. Set gamma explicitly to 'auto' or 'scale' to avoid this warning.\n",
      "  \"avoid this warning.\", FutureWarning)\n"
     ]
    },
    {
     "name": "stdout",
     "output_type": "stream",
     "text": [
      "accuracy for linearSVM with rbf kernel:  0.1599443671766342\n",
      " \n",
      " ----------------- -------------------- ------------------ \n",
      "\n",
      "For n= 16  principal components, results : \n",
      "\n",
      "accuracy using randomforest: 0.9554937413073713\n",
      "accuracy using kNN: 0.9847009735744089\n",
      "accuracy for decision trees:  0.8636995827538247\n",
      "accuracy for linearSVM with linear kernel:  0.9596662030598053\n"
     ]
    },
    {
     "name": "stderr",
     "output_type": "stream",
     "text": [
      "/home/kratos/anaconda3/lib/python3.7/site-packages/sklearn/svm/base.py:196: FutureWarning: The default value of gamma will change from 'auto' to 'scale' in version 0.22 to account better for unscaled features. Set gamma explicitly to 'auto' or 'scale' to avoid this warning.\n",
      "  \"avoid this warning.\", FutureWarning)\n"
     ]
    },
    {
     "name": "stdout",
     "output_type": "stream",
     "text": [
      "accuracy for linearSVM with rbf kernel:  0.08762169680111266\n",
      " \n",
      " ----------------- -------------------- ------------------ \n",
      "\n",
      "For n= 32  principal components, results : \n",
      "\n",
      "accuracy using randomforest: 0.9554937413073713\n",
      "accuracy using kNN: 0.9860917941585535\n",
      "accuracy for decision trees:  0.8372739916550765\n",
      "accuracy for linearSVM with linear kernel:  0.9735744089012517\n"
     ]
    },
    {
     "name": "stderr",
     "output_type": "stream",
     "text": [
      "/home/kratos/anaconda3/lib/python3.7/site-packages/sklearn/svm/base.py:196: FutureWarning: The default value of gamma will change from 'auto' to 'scale' in version 0.22 to account better for unscaled features. Set gamma explicitly to 'auto' or 'scale' to avoid this warning.\n",
      "  \"avoid this warning.\", FutureWarning)\n"
     ]
    },
    {
     "name": "stdout",
     "output_type": "stream",
     "text": [
      "accuracy for linearSVM with rbf kernel:  0.0890125173852573\n",
      " \n",
      " ----------------- -------------------- ------------------ \n",
      "\n"
     ]
    }
   ],
   "source": [
    "powers2 = [2, 4, 8, 16, 32]\n",
    "\n",
    "for i in range(len(powers2)):\n",
    "\n",
    "    print('For n=', powers2[i], ' principal components, results : \\n')\n",
    "    \n",
    "    pca = PCA(n_components = powers2[i])\n",
    "    # actually run the fit algorithm\n",
    "    eigenbasis = pca.fit(digits.data)\n",
    "    # transform our data using the learned transform\n",
    "    digits2d = eigenbasis.transform(digits.data)\n",
    "\n",
    "    X_train, X_test, y_train, y_test = train_test_split(digits2d, digits.target, test_size=0.4, random_state=3)\n",
    "\n",
    "\n",
    "    rf = RandomForestClassifier(n_estimators=50, oob_score=True, n_jobs=-1)\n",
    "    rf.fit(X_train, y_train)\n",
    "    rf.predict(X_test)\n",
    "    accuracy3 = rf.score(X_test, y_test)\n",
    "    print('accuracy using randomforest:', accuracy3)\n",
    "\n",
    "\n",
    "    nn = neighbors.KNeighborsClassifier(n_neighbors=1, metric='euclidean')\n",
    "    nn.fit(X_train, y_train)\n",
    "    accuracy4 = nn.score(X_test, y_test)\n",
    "    print('accuracy using kNN:', accuracy4)\n",
    "\n",
    "\n",
    "    treeclf = tree.DecisionTreeClassifier()\n",
    "    treeclf.fit(X_train, y_train)\n",
    "    accuracy2 = treeclf.score(X_test, y_test)\n",
    "    print('accuracy for decision trees: ', accuracy2)\n",
    "\n",
    "\n",
    "    svmLinear = svm.SVC(kernel='linear')\n",
    "    svmLinear.fit(X_train, y_train)\n",
    "    accuracy5 = svmLinear.score(X_test, y_test)\n",
    "    print('accuracy for linearSVM with linear kernel: ', accuracy5)\n",
    "\n",
    "\n",
    "    linearSvm = svm.SVC(kernel='rbf')\n",
    "    linearSvm.fit(X_train, y_train)\n",
    "    accuracy1 = linearSvm.score(X_test, y_test)\n",
    "    print('accuracy for linearSVM with rbf kernel: ', accuracy1)\n",
    "    \n",
    "    print(' \\n ----------------- -------------------- ------------------ \\n')"
   ]
  }
 ],
 "metadata": {
  "kernelspec": {
   "display_name": "Python 3",
   "language": "python",
   "name": "python3"
  },
  "language_info": {
   "codemirror_mode": {
    "name": "ipython",
    "version": 3
   },
   "file_extension": ".py",
   "mimetype": "text/x-python",
   "name": "python",
   "nbconvert_exporter": "python",
   "pygments_lexer": "ipython3",
   "version": "3.7.3"
  }
 },
 "nbformat": 4,
 "nbformat_minor": 4
}
