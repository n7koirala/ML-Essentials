{
 "cells": [
  {
   "cell_type": "code",
   "execution_count": 2,
   "metadata": {},
   "outputs": [],
   "source": [
    "import numpy as np\n",
    "from sklearn import neighbors, datasets\n",
    "from sklearn.model_selection import train_test_split\n",
    "from collections import Counter\n",
    "import pandas as pd"
   ]
  },
  {
   "cell_type": "code",
   "execution_count": 3,
   "metadata": {},
   "outputs": [],
   "source": [
    "iris = datasets.load_iris()"
   ]
  },
  {
   "cell_type": "code",
   "execution_count": 4,
   "metadata": {},
   "outputs": [
    {
     "name": "stdout",
     "output_type": "stream",
     "text": [
      "training shape: (90, 4) , testing shape: (60, 4)\n"
     ]
    }
   ],
   "source": [
    "X_train, X_test, y_train, y_test = train_test_split(iris.data, iris.target, test_size=0.4, random_state=0)\n",
    "\n",
    "print(\"training shape:\", X_train.shape, \", testing shape:\", X_test.shape)"
   ]
  },
  {
   "cell_type": "code",
   "execution_count": 5,
   "metadata": {},
   "outputs": [],
   "source": [
    "# note we are not using the exact euclidean distance formula i.e. we are skipping the square root which gives similar resul\n",
    "def distance(a, b):\n",
    "    \n",
    "    edistance = 0\n",
    "    \n",
    "    for i in range(len(a)):\n",
    "        edistance += ((a[i]-b[i])**2)\n",
    "    \n",
    "    return edistance"
   ]
  },
  {
   "cell_type": "code",
   "execution_count": 6,
   "metadata": {},
   "outputs": [
    {
     "data": {
      "text/plain": [
       "16.299999999999997"
      ]
     },
     "execution_count": 6,
     "metadata": {},
     "output_type": "execute_result"
    }
   ],
   "source": [
    "distance(X_train[1], X_train[2])"
   ]
  },
  {
   "cell_type": "code",
   "execution_count": 7,
   "metadata": {},
   "outputs": [],
   "source": [
    "#TODO: implement this function\n",
    "\n",
    "df = pd.DataFrame(iris.data)\n",
    "iris.data = df.astype(float).values.tolist()  # using panda to convert all the values in data to floats\n",
    "X_train, X_test, y_train, y_test = train_test_split(iris.data, iris.target, test_size=0.4, random_state=0)\n",
    "# splitting again\n",
    "\n",
    "def getLabel(data, predict, k):\n",
    "    \n",
    "    distances = []\n",
    "    \n",
    "    for group in data:     # finding the distances and putting it in the list\n",
    "        for features in data[group]:\n",
    "            euclidean_distance = distance(np.array(features), np.array(predict))\n",
    "            distances.append([euclidean_distance, group])\n",
    "            \n",
    "    labels = [i[1] for i in sorted(distances)[:k]] # sort the list and and take the first k elements,\n",
    "    # index as 1 which is the class\n",
    "    final_label = Counter(labels).most_common(1)[0][0] # getting the most common label\n",
    "    \n",
    "    return final_label\n",
    "\n",
    "\n",
    "\n",
    "def myNearestNeighbor(train, trainLabels, test, testLabels, k):\n",
    "    \n",
    "    train_set = {0:[], 1:[], 2:[]} # declaring dictionaries for the classes\n",
    "    test_set = {0:[], 1:[], 2:[]}\n",
    "    \n",
    "    for i in range(len(train)):   # putting the training data and label in a single list\n",
    "        for j in range(len(train[i])):\n",
    "            train[i].extend([trainLabels[i]])\n",
    "\n",
    "            \n",
    "    for i in range(len(test)):   # putting the test data and its label in a single list \n",
    "        for j in range(len(test[i])):\n",
    "            test[i].extend([testLabels[i]])\n",
    "\n",
    "    for i in train:             # filling each class of the training dict.\n",
    "        train_set[i[-1]].append(i[:4])\n",
    "\n",
    "\n",
    "    for i in test:              # filling each class of the test dict.\n",
    "        test_set[i[-1]].append(i[:4])\n",
    "\n",
    "    correct = 0\n",
    "    total = 0\n",
    "\n",
    "    for group in test_set:        # checking if our label matches the actual label of test_set\n",
    "        for data in test_set[group]:\n",
    "            label = getLabel(train_set, data, k)\n",
    "            if group == label:\n",
    "                correct +=1\n",
    "            total +=1\n",
    "            \n",
    "    print(\"accuracy: \", correct/total)\n",
    "\n"
   ]
  },
  {
   "cell_type": "code",
   "execution_count": 8,
   "metadata": {},
   "outputs": [
    {
     "name": "stdout",
     "output_type": "stream",
     "text": [
      "accuracy:  0.95\n"
     ]
    }
   ],
   "source": [
    "myNearestNeighbor(X_train, y_train, X_test, y_test, k=5)"
   ]
  },
  {
   "cell_type": "code",
   "execution_count": null,
   "metadata": {},
   "outputs": [],
   "source": []
  }
 ],
 "metadata": {
  "kernelspec": {
   "display_name": "Python 3",
   "language": "python",
   "name": "python3"
  },
  "language_info": {
   "codemirror_mode": {
    "name": "ipython",
    "version": 3
   },
   "file_extension": ".py",
   "mimetype": "text/x-python",
   "name": "python",
   "nbconvert_exporter": "python",
   "pygments_lexer": "ipython3",
   "version": "3.7.3"
  }
 },
 "nbformat": 4,
 "nbformat_minor": 2
}
